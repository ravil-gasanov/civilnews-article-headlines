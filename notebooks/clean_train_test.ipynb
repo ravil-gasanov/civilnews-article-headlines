{
 "cells": [
  {
   "cell_type": "code",
   "execution_count": 1,
   "id": "a4dea39b",
   "metadata": {},
   "outputs": [],
   "source": [
    "import pandas as pd\n",
    "import numpy as np\n",
    "\n",
    "from sklearn.model_selection import train_test_split"
   ]
  },
  {
   "cell_type": "code",
   "execution_count": 2,
   "id": "d221269a",
   "metadata": {},
   "outputs": [],
   "source": [
    "raw = pd.read_csv(\"../data/civilnews-headlines-raw.csv\")"
   ]
  },
  {
   "cell_type": "code",
   "execution_count": 3,
   "id": "c6ca5988",
   "metadata": {},
   "outputs": [],
   "source": [
    "raw.drop(raw.columns[-1], axis = 1, inplace = True)"
   ]
  },
  {
   "cell_type": "code",
   "execution_count": 4,
   "id": "61753a9f",
   "metadata": {},
   "outputs": [],
   "source": [
    "mask = raw[['headline', 'views']].dropna().index"
   ]
  },
  {
   "cell_type": "code",
   "execution_count": 5,
   "id": "1df2b328",
   "metadata": {},
   "outputs": [],
   "source": [
    "raw = raw.iloc[mask, :]"
   ]
  },
  {
   "cell_type": "code",
   "execution_count": 6,
   "id": "31cf8e4a",
   "metadata": {},
   "outputs": [
    {
     "name": "stdout",
     "output_type": "stream",
     "text": [
      "<class 'pandas.core.frame.DataFrame'>\n",
      "Int64Index: 34873 entries, 0 to 35091\n",
      "Data columns (total 4 columns):\n",
      " #   Column     Non-Null Count  Dtype \n",
      "---  ------     --------------  ----- \n",
      " 0   date-time  34873 non-null  object\n",
      " 1   headline   34873 non-null  object\n",
      " 2   views      34873 non-null  object\n",
      " 3   tags       6640 non-null   object\n",
      "dtypes: object(4)\n",
      "memory usage: 1.3+ MB\n"
     ]
    }
   ],
   "source": [
    "raw.info()"
   ]
  },
  {
   "cell_type": "code",
   "execution_count": 7,
   "id": "aa33bf47",
   "metadata": {},
   "outputs": [],
   "source": [
    "raw['date-time'] = pd.to_datetime(raw['date-time'], format = \"%d/%m/%Y - %H:%M\")"
   ]
  },
  {
   "cell_type": "code",
   "execution_count": 8,
   "id": "a9b338b6",
   "metadata": {},
   "outputs": [],
   "source": [
    "raw.reset_index(inplace = True, drop = True)"
   ]
  },
  {
   "cell_type": "code",
   "execution_count": 9,
   "id": "8e1b87c7",
   "metadata": {},
   "outputs": [],
   "source": [
    "raw.to_csv('../data/civilnews-headlines-clean.csv', index = False)"
   ]
  },
  {
   "cell_type": "code",
   "execution_count": 10,
   "id": "df2eb469",
   "metadata": {},
   "outputs": [
    {
     "data": {
      "text/plain": [
       "True"
      ]
     },
     "execution_count": 10,
     "metadata": {},
     "output_type": "execute_result"
    }
   ],
   "source": [
    "raw.sort_values(by = ['date-time'], ascending = True, inplace = True)\n",
    "raw['date-time'].is_monotonic"
   ]
  },
  {
   "cell_type": "code",
   "execution_count": 11,
   "id": "43f057e8",
   "metadata": {},
   "outputs": [],
   "source": [
    "train, test = train_test_split(raw, train_size = 0.7, shuffle = False)"
   ]
  },
  {
   "cell_type": "code",
   "execution_count": 12,
   "id": "9f3e8cdb",
   "metadata": {},
   "outputs": [],
   "source": [
    "train.to_csv('../data/train.csv', index = False)\n",
    "test.to_csv('../data/test.csv', index = False)"
   ]
  }
 ],
 "metadata": {
  "kernelspec": {
   "display_name": "Python 3 (ipykernel)",
   "language": "python",
   "name": "python3"
  },
  "language_info": {
   "codemirror_mode": {
    "name": "ipython",
    "version": 3
   },
   "file_extension": ".py",
   "mimetype": "text/x-python",
   "name": "python",
   "nbconvert_exporter": "python",
   "pygments_lexer": "ipython3",
   "version": "3.10.4"
  }
 },
 "nbformat": 4,
 "nbformat_minor": 5
}
